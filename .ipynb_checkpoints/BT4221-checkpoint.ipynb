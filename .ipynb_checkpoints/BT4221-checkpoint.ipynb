{
 "cells": [
  {
   "cell_type": "code",
   "execution_count": 1,
   "metadata": {},
   "outputs": [
    {
     "name": "stdout",
     "output_type": "stream",
     "text": [
      "Collecting spotipy\n",
      "  Downloading https://files.pythonhosted.org/packages/9f/21/9dcb15600495e8474befd275510e4d7aadfa796554d2f414b57f73731323/spotipy-2.16.0-py3-none-any.whl\n",
      "Requirement already satisfied: requests>=2.20.0 in /Users/samantha/opt/anaconda3/lib/python3.7/site-packages (from spotipy) (2.23.0)\n",
      "Requirement already satisfied: six>=1.10.0 in /Users/samantha/opt/anaconda3/lib/python3.7/site-packages (from spotipy) (1.14.0)\n",
      "Requirement already satisfied: certifi>=2017.4.17 in /Users/samantha/opt/anaconda3/lib/python3.7/site-packages (from requests>=2.20.0->spotipy) (2019.11.28)\n",
      "Requirement already satisfied: chardet<4,>=3.0.2 in /Users/samantha/opt/anaconda3/lib/python3.7/site-packages (from requests>=2.20.0->spotipy) (3.0.4)\n",
      "Requirement already satisfied: urllib3!=1.25.0,!=1.25.1,<1.26,>=1.21.1 in /Users/samantha/opt/anaconda3/lib/python3.7/site-packages (from requests>=2.20.0->spotipy) (1.25.8)\n",
      "Requirement already satisfied: idna<3,>=2.5 in /Users/samantha/opt/anaconda3/lib/python3.7/site-packages (from requests>=2.20.0->spotipy) (2.9)\n",
      "Installing collected packages: spotipy\n",
      "Successfully installed spotipy-2.16.0\n"
     ]
    }
   ],
   "source": [
    "!pip install spotipy"
   ]
  },
  {
   "cell_type": "code",
   "execution_count": 23,
   "metadata": {},
   "outputs": [],
   "source": [
    "import spotipy\n",
    "import spotipy.util as util\n",
    "import pandas as pd\n",
    "from spotipy.oauth2 import SpotifyClientCredentials"
   ]
  },
  {
   "cell_type": "code",
   "execution_count": 13,
   "metadata": {},
   "outputs": [],
   "source": [
    "CLIENT_ID = \"9abc6f4985fc4b4989da57fedea1afda\"\n",
    "CLIENT_SECRET = \"209a933f383f471f91b7628aec0b5ca6\""
   ]
  },
  {
   "cell_type": "code",
   "execution_count": 15,
   "metadata": {},
   "outputs": [],
   "source": [
    "token = SpotifyClientCredentials(client_id=CLIENT_ID, client_secret=CLIENT_SECRET)\n",
    "cache_token = token.get_access_token()\n",
    "sp = spotipy.Spotify(cache_token)"
   ]
  },
  {
   "cell_type": "code",
   "execution_count": 17,
   "metadata": {},
   "outputs": [],
   "source": [
    "def analyze_playlist(creator, playlist_id):\n",
    "    \n",
    "    # Create empty dataframe\n",
    "    playlist_features_list = [\"artist\",\"album\",\"track_name\",  \"track_id\",\"danceability\",\"energy\",\"key\",\"loudness\",\"mode\", \"speechiness\",\"instrumentalness\",\"liveness\",\"valence\",\"tempo\", \"duration_ms\",\"time_signature\"]\n",
    "    \n",
    "    playlist_df = pd.DataFrame(columns = playlist_features_list)\n",
    "    \n",
    "    # Loop through every track in the playlist, extract features and append the features to the playlist df\n",
    "    \n",
    "    playlist = sp.user_playlist_tracks(creator, playlist_id)[\"items\"]\n",
    "    for track in playlist:\n",
    "        # Create empty dict\n",
    "        playlist_features = {}\n",
    "        # Get metadata\n",
    "        playlist_features[\"artist\"] = track[\"track\"][\"album\"][\"artists\"][0][\"name\"]\n",
    "        playlist_features[\"album\"] = track[\"track\"][\"album\"][\"name\"]\n",
    "        playlist_features[\"track_name\"] = track[\"track\"][\"name\"]\n",
    "        playlist_features[\"track_id\"] = track[\"track\"][\"id\"]\n",
    "        \n",
    "        # Get audio features\n",
    "        audio_features = sp.audio_features(playlist_features[\"track_id\"])[0]\n",
    "        for feature in playlist_features_list[4:]:\n",
    "            playlist_features[feature] = audio_features[feature]\n",
    "        \n",
    "        # Concat the dfs\n",
    "        track_df = pd.DataFrame(playlist_features, index = [0])\n",
    "        playlist_df = pd.concat([playlist_df, track_df], ignore_index = True)\n",
    "        \n",
    "    return playlist_df"
   ]
  },
  {
   "cell_type": "code",
   "execution_count": 20,
   "metadata": {},
   "outputs": [],
   "source": [
    "playlist_dict = {\n",
    " \"warm_fuzzy_feeling\" : (\"spotify\", \"37i9dQZF1DX5IDTimEWoTd\"), \n",
    " \"love_songs_heart\" : (\"indiemono\", \"5KbTzqKBqxQRD8OBtJTZrS\"),\n",
    " \"romance_songs\" : (\"Susan Doles\", \"7sAUK3XK8NHH1s5vGcTBkF\"),\n",
    "    \"SG Top 50\" : (\"Spot\")\n",
    "    \n",
    "}"
   ]
  },
  {
   "cell_type": "code",
   "execution_count": 21,
   "metadata": {},
   "outputs": [],
   "source": [
    "def analyze_playlist_dict(playlist_dict):\n",
    "    \n",
    "    # Loop through every playlist in the dict and analyze it\n",
    "    for i, (key, val) in enumerate(playlist_dict.items()):\n",
    "        playlist_df = analyze_playlist(*val)\n",
    "        # Add a playlist column so that we can see which playlist a track belongs too\n",
    "        playlist_df[\"playlist\"] = key\n",
    "        # Create or concat df\n",
    "        if i == 0:\n",
    "            playlist_dict_df = playlist_df\n",
    "        else:\n",
    "            playlist_dict_df = pd.concat([playlist_dict_df, playlist_df], ignore_index = True)\n",
    "            \n",
    "    return playlist_dict_df"
   ]
  },
  {
   "cell_type": "code",
   "execution_count": 24,
   "metadata": {},
   "outputs": [
    {
     "data": {
      "text/plain": [
       "love_songs_heart      100\n",
       "warm_fuzzy_feeling     80\n",
       "romance_songs          77\n",
       "Name: playlist, dtype: int64"
      ]
     },
     "execution_count": 24,
     "metadata": {},
     "output_type": "execute_result"
    }
   ],
   "source": [
    "multiple_playlist_df = analyze_playlist_dict(playlist_dict)\n",
    "multiple_playlist_df[\"playlist\"].value_counts()"
   ]
  },
  {
   "cell_type": "code",
   "execution_count": 26,
   "metadata": {},
   "outputs": [
    {
     "data": {
      "text/html": [
       "<div>\n",
       "<style scoped>\n",
       "    .dataframe tbody tr th:only-of-type {\n",
       "        vertical-align: middle;\n",
       "    }\n",
       "\n",
       "    .dataframe tbody tr th {\n",
       "        vertical-align: top;\n",
       "    }\n",
       "\n",
       "    .dataframe thead th {\n",
       "        text-align: right;\n",
       "    }\n",
       "</style>\n",
       "<table border=\"1\" class=\"dataframe\">\n",
       "  <thead>\n",
       "    <tr style=\"text-align: right;\">\n",
       "      <th></th>\n",
       "      <th>artist</th>\n",
       "      <th>album</th>\n",
       "      <th>track_name</th>\n",
       "      <th>track_id</th>\n",
       "      <th>danceability</th>\n",
       "      <th>energy</th>\n",
       "      <th>key</th>\n",
       "      <th>loudness</th>\n",
       "      <th>mode</th>\n",
       "      <th>speechiness</th>\n",
       "      <th>instrumentalness</th>\n",
       "      <th>liveness</th>\n",
       "      <th>valence</th>\n",
       "      <th>tempo</th>\n",
       "      <th>duration_ms</th>\n",
       "      <th>time_signature</th>\n",
       "      <th>playlist</th>\n",
       "    </tr>\n",
       "  </thead>\n",
       "  <tbody>\n",
       "    <tr>\n",
       "      <td>0</td>\n",
       "      <td>yaeow</td>\n",
       "      <td>The Way I Love You</td>\n",
       "      <td>The Way I Love You</td>\n",
       "      <td>3XV5r1cMB2AlD2ir0v6mfm</td>\n",
       "      <td>0.543</td>\n",
       "      <td>0.206</td>\n",
       "      <td>6</td>\n",
       "      <td>-18.037</td>\n",
       "      <td>1</td>\n",
       "      <td>0.0319</td>\n",
       "      <td>0.453</td>\n",
       "      <td>0.3850</td>\n",
       "      <td>0.130</td>\n",
       "      <td>113.107</td>\n",
       "      <td>162727</td>\n",
       "      <td>3</td>\n",
       "      <td>warm_fuzzy_feeling</td>\n",
       "    </tr>\n",
       "    <tr>\n",
       "      <td>1</td>\n",
       "      <td>Heather Janssen</td>\n",
       "      <td>Dancing When I Die</td>\n",
       "      <td>Dancing When I Die</td>\n",
       "      <td>6epGSSmdGkjcBmLDKXLbMl</td>\n",
       "      <td>0.448</td>\n",
       "      <td>0.173</td>\n",
       "      <td>10</td>\n",
       "      <td>-12.406</td>\n",
       "      <td>1</td>\n",
       "      <td>0.0458</td>\n",
       "      <td>0</td>\n",
       "      <td>0.0987</td>\n",
       "      <td>0.282</td>\n",
       "      <td>108.107</td>\n",
       "      <td>162000</td>\n",
       "      <td>4</td>\n",
       "      <td>warm_fuzzy_feeling</td>\n",
       "    </tr>\n",
       "    <tr>\n",
       "      <td>2</td>\n",
       "      <td>Juke Ross</td>\n",
       "      <td>Chapter 2</td>\n",
       "      <td>Sophia</td>\n",
       "      <td>093KMwH96ZwZRZn2lKoX9Z</td>\n",
       "      <td>0.514</td>\n",
       "      <td>0.320</td>\n",
       "      <td>5</td>\n",
       "      <td>-11.937</td>\n",
       "      <td>1</td>\n",
       "      <td>0.0428</td>\n",
       "      <td>4.83e-05</td>\n",
       "      <td>0.1150</td>\n",
       "      <td>0.140</td>\n",
       "      <td>115.312</td>\n",
       "      <td>231693</td>\n",
       "      <td>4</td>\n",
       "      <td>warm_fuzzy_feeling</td>\n",
       "    </tr>\n",
       "    <tr>\n",
       "      <td>3</td>\n",
       "      <td>Rajiv Dhall</td>\n",
       "      <td>84</td>\n",
       "      <td>84</td>\n",
       "      <td>3qePCADpvWQ38YCLxXBrdU</td>\n",
       "      <td>0.448</td>\n",
       "      <td>0.413</td>\n",
       "      <td>5</td>\n",
       "      <td>-7.411</td>\n",
       "      <td>1</td>\n",
       "      <td>0.0511</td>\n",
       "      <td>0</td>\n",
       "      <td>0.1210</td>\n",
       "      <td>0.406</td>\n",
       "      <td>169.319</td>\n",
       "      <td>155729</td>\n",
       "      <td>4</td>\n",
       "      <td>warm_fuzzy_feeling</td>\n",
       "    </tr>\n",
       "    <tr>\n",
       "      <td>4</td>\n",
       "      <td>James Arthur</td>\n",
       "      <td>Falling Like The Stars</td>\n",
       "      <td>Falling Like The Stars</td>\n",
       "      <td>15xWRPHQMeqgdkGzInx3PY</td>\n",
       "      <td>0.296</td>\n",
       "      <td>0.351</td>\n",
       "      <td>6</td>\n",
       "      <td>-9.538</td>\n",
       "      <td>1</td>\n",
       "      <td>0.0351</td>\n",
       "      <td>1.5e-06</td>\n",
       "      <td>0.1100</td>\n",
       "      <td>0.190</td>\n",
       "      <td>177.596</td>\n",
       "      <td>212720</td>\n",
       "      <td>3</td>\n",
       "      <td>warm_fuzzy_feeling</td>\n",
       "    </tr>\n",
       "  </tbody>\n",
       "</table>\n",
       "</div>"
      ],
      "text/plain": [
       "            artist                   album              track_name  \\\n",
       "0            yaeow      The Way I Love You      The Way I Love You   \n",
       "1  Heather Janssen      Dancing When I Die      Dancing When I Die   \n",
       "2        Juke Ross               Chapter 2                  Sophia   \n",
       "3      Rajiv Dhall                      84                      84   \n",
       "4     James Arthur  Falling Like The Stars  Falling Like The Stars   \n",
       "\n",
       "                 track_id  danceability  energy key  loudness mode  \\\n",
       "0  3XV5r1cMB2AlD2ir0v6mfm         0.543   0.206   6   -18.037    1   \n",
       "1  6epGSSmdGkjcBmLDKXLbMl         0.448   0.173  10   -12.406    1   \n",
       "2  093KMwH96ZwZRZn2lKoX9Z         0.514   0.320   5   -11.937    1   \n",
       "3  3qePCADpvWQ38YCLxXBrdU         0.448   0.413   5    -7.411    1   \n",
       "4  15xWRPHQMeqgdkGzInx3PY         0.296   0.351   6    -9.538    1   \n",
       "\n",
       "   speechiness instrumentalness  liveness  valence    tempo duration_ms  \\\n",
       "0       0.0319            0.453    0.3850    0.130  113.107      162727   \n",
       "1       0.0458                0    0.0987    0.282  108.107      162000   \n",
       "2       0.0428         4.83e-05    0.1150    0.140  115.312      231693   \n",
       "3       0.0511                0    0.1210    0.406  169.319      155729   \n",
       "4       0.0351          1.5e-06    0.1100    0.190  177.596      212720   \n",
       "\n",
       "  time_signature            playlist  \n",
       "0              3  warm_fuzzy_feeling  \n",
       "1              4  warm_fuzzy_feeling  \n",
       "2              4  warm_fuzzy_feeling  \n",
       "3              4  warm_fuzzy_feeling  \n",
       "4              3  warm_fuzzy_feeling  "
      ]
     },
     "execution_count": 26,
     "metadata": {},
     "output_type": "execute_result"
    }
   ],
   "source": [
    "multiple_playlist_df.head()"
   ]
  },
  {
   "cell_type": "code",
   "execution_count": null,
   "metadata": {},
   "outputs": [],
   "source": []
  }
 ],
 "metadata": {
  "kernelspec": {
   "display_name": "Python 3",
   "language": "python",
   "name": "python3"
  },
  "language_info": {
   "codemirror_mode": {
    "name": "ipython",
    "version": 3
   },
   "file_extension": ".py",
   "mimetype": "text/x-python",
   "name": "python",
   "nbconvert_exporter": "python",
   "pygments_lexer": "ipython3",
   "version": "3.7.4"
  }
 },
 "nbformat": 4,
 "nbformat_minor": 2
}
