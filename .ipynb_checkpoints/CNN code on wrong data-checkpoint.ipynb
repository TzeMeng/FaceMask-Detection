{
 "cells": [
  {
   "cell_type": "code",
   "execution_count": 1,
   "metadata": {
    "_cell_guid": "b1076dfc-b9ad-4769-8c92-a6c4dae69d19",
    "_uuid": "8f2839f25d086af736a60e9eeb907d3b93b6e0e5"
   },
   "outputs": [],
   "source": [
    "# This Python 3 environment comes with many helpful analytics libraries installed\n",
    "# It is defined by the kaggle/python Docker image: https://github.com/kaggle/docker-python\n",
    "# For example, here's several helpful packages to load\n",
    "\n",
    "import numpy as np # linear algebra\n",
    "import pandas as pd # data processing, CSV file I/O (e.g. pd.read_csv)\n",
    "\n",
    "# Input data files are available in the read-only \"../input/\" directory\n",
    "# For example, running this (by clicking run or pressing Shift+Enter) will list all files under the input directory\n",
    "\n",
    "import os\n",
    "#for dirname, _, filenames in os.walk('/kaggle/input'):\n",
    "#    for filename in filenames:\n",
    "#        print(os.path.join(dirname, filename))\n",
    "\n",
    "# You can write up to 5GB to the current directory (/kaggle/working/) that gets preserved as output when you create a version using \"Save & Run All\" \n",
    "# You can also write temporary files to /kaggle/temp/, but they won't be saved outside of the current session"
   ]
  },
  {
   "cell_type": "markdown",
   "metadata": {},
   "source": [
    "Image Preprocessing"
   ]
  },
  {
   "cell_type": "code",
   "execution_count": 3,
   "metadata": {
    "_cell_guid": "79c7e3d0-c299-4dcb-8224-4455121ee9b0",
    "_uuid": "d629ff2d2480ee46fbb7e2d37f6b5fab8052498a"
   },
   "outputs": [
    {
     "ename": "FileNotFoundError",
     "evalue": "[Errno 2] No such file or directory: '/Users/samantha/Downloads/Y3S1/BT4221/Kaggle\\\\ Mask'",
     "output_type": "error",
     "traceback": [
      "\u001b[0;31m---------------------------------------------------------------------------\u001b[0m",
      "\u001b[0;31mFileNotFoundError\u001b[0m                         Traceback (most recent call last)",
      "\u001b[0;32m<ipython-input-3-1eb6ff26c98e>\u001b[0m in \u001b[0;36m<module>\u001b[0;34m\u001b[0m\n\u001b[1;32m      7\u001b[0m                                                  \u001b[0mtarget_size\u001b[0m\u001b[0;34m=\u001b[0m\u001b[0;34m(\u001b[0m\u001b[0;36m127\u001b[0m\u001b[0;34m,\u001b[0m\u001b[0;36m127\u001b[0m\u001b[0;34m)\u001b[0m\u001b[0;34m,\u001b[0m\u001b[0;34m\u001b[0m\u001b[0;34m\u001b[0m\u001b[0m\n\u001b[1;32m      8\u001b[0m                                                  \u001b[0mbatch_size\u001b[0m\u001b[0;34m=\u001b[0m\u001b[0;36m32\u001b[0m\u001b[0;34m,\u001b[0m\u001b[0;34m\u001b[0m\u001b[0;34m\u001b[0m\u001b[0m\n\u001b[0;32m----> 9\u001b[0;31m                                                  class_mode='binary')\n\u001b[0m",
      "\u001b[0;32m~/opt/anaconda3/lib/python3.7/site-packages/keras/preprocessing/image.py\u001b[0m in \u001b[0;36mflow_from_directory\u001b[0;34m(self, directory, target_size, color_mode, classes, class_mode, batch_size, shuffle, seed, save_to_dir, save_prefix, save_format, follow_links, subset, interpolation)\u001b[0m\n\u001b[1;32m    465\u001b[0m             \u001b[0mfollow_links\u001b[0m\u001b[0;34m=\u001b[0m\u001b[0mfollow_links\u001b[0m\u001b[0;34m,\u001b[0m\u001b[0;34m\u001b[0m\u001b[0;34m\u001b[0m\u001b[0m\n\u001b[1;32m    466\u001b[0m             \u001b[0msubset\u001b[0m\u001b[0;34m=\u001b[0m\u001b[0msubset\u001b[0m\u001b[0;34m,\u001b[0m\u001b[0;34m\u001b[0m\u001b[0;34m\u001b[0m\u001b[0m\n\u001b[0;32m--> 467\u001b[0;31m             \u001b[0minterpolation\u001b[0m\u001b[0;34m=\u001b[0m\u001b[0minterpolation\u001b[0m\u001b[0;34m\u001b[0m\u001b[0;34m\u001b[0m\u001b[0m\n\u001b[0m\u001b[1;32m    468\u001b[0m         )\n\u001b[1;32m    469\u001b[0m \u001b[0;34m\u001b[0m\u001b[0m\n",
      "\u001b[0;32m~/opt/anaconda3/lib/python3.7/site-packages/keras/preprocessing/image.py\u001b[0m in \u001b[0;36m__init__\u001b[0;34m(self, directory, image_data_generator, target_size, color_mode, classes, class_mode, batch_size, shuffle, seed, data_format, save_to_dir, save_prefix, save_format, follow_links, subset, interpolation, dtype)\u001b[0m\n\u001b[1;32m    148\u001b[0m             \u001b[0msubset\u001b[0m\u001b[0;34m=\u001b[0m\u001b[0msubset\u001b[0m\u001b[0;34m,\u001b[0m\u001b[0;34m\u001b[0m\u001b[0;34m\u001b[0m\u001b[0m\n\u001b[1;32m    149\u001b[0m             \u001b[0minterpolation\u001b[0m\u001b[0;34m=\u001b[0m\u001b[0minterpolation\u001b[0m\u001b[0;34m,\u001b[0m\u001b[0;34m\u001b[0m\u001b[0;34m\u001b[0m\u001b[0m\n\u001b[0;32m--> 150\u001b[0;31m             dtype=dtype)\n\u001b[0m\u001b[1;32m    151\u001b[0m \u001b[0;34m\u001b[0m\u001b[0m\n\u001b[1;32m    152\u001b[0m \u001b[0;34m\u001b[0m\u001b[0m\n",
      "\u001b[0;32m~/opt/anaconda3/lib/python3.7/site-packages/keras_preprocessing/image/directory_iterator.py\u001b[0m in \u001b[0;36m__init__\u001b[0;34m(self, directory, image_data_generator, target_size, color_mode, classes, class_mode, batch_size, shuffle, seed, data_format, save_to_dir, save_prefix, save_format, follow_links, subset, interpolation, dtype)\u001b[0m\n\u001b[1;32m    104\u001b[0m         \u001b[0;32mif\u001b[0m \u001b[0;32mnot\u001b[0m \u001b[0mclasses\u001b[0m\u001b[0;34m:\u001b[0m\u001b[0;34m\u001b[0m\u001b[0;34m\u001b[0m\u001b[0m\n\u001b[1;32m    105\u001b[0m             \u001b[0mclasses\u001b[0m \u001b[0;34m=\u001b[0m \u001b[0;34m[\u001b[0m\u001b[0;34m]\u001b[0m\u001b[0;34m\u001b[0m\u001b[0;34m\u001b[0m\u001b[0m\n\u001b[0;32m--> 106\u001b[0;31m             \u001b[0;32mfor\u001b[0m \u001b[0msubdir\u001b[0m \u001b[0;32min\u001b[0m \u001b[0msorted\u001b[0m\u001b[0;34m(\u001b[0m\u001b[0mos\u001b[0m\u001b[0;34m.\u001b[0m\u001b[0mlistdir\u001b[0m\u001b[0;34m(\u001b[0m\u001b[0mdirectory\u001b[0m\u001b[0;34m)\u001b[0m\u001b[0;34m)\u001b[0m\u001b[0;34m:\u001b[0m\u001b[0;34m\u001b[0m\u001b[0;34m\u001b[0m\u001b[0m\n\u001b[0m\u001b[1;32m    107\u001b[0m                 \u001b[0;32mif\u001b[0m \u001b[0mos\u001b[0m\u001b[0;34m.\u001b[0m\u001b[0mpath\u001b[0m\u001b[0;34m.\u001b[0m\u001b[0misdir\u001b[0m\u001b[0;34m(\u001b[0m\u001b[0mos\u001b[0m\u001b[0;34m.\u001b[0m\u001b[0mpath\u001b[0m\u001b[0;34m.\u001b[0m\u001b[0mjoin\u001b[0m\u001b[0;34m(\u001b[0m\u001b[0mdirectory\u001b[0m\u001b[0;34m,\u001b[0m \u001b[0msubdir\u001b[0m\u001b[0;34m)\u001b[0m\u001b[0;34m)\u001b[0m\u001b[0;34m:\u001b[0m\u001b[0;34m\u001b[0m\u001b[0;34m\u001b[0m\u001b[0m\n\u001b[1;32m    108\u001b[0m                     \u001b[0mclasses\u001b[0m\u001b[0;34m.\u001b[0m\u001b[0mappend\u001b[0m\u001b[0;34m(\u001b[0m\u001b[0msubdir\u001b[0m\u001b[0;34m)\u001b[0m\u001b[0;34m\u001b[0m\u001b[0;34m\u001b[0m\u001b[0m\n",
      "\u001b[0;31mFileNotFoundError\u001b[0m: [Errno 2] No such file or directory: '/Users/samantha/Downloads/Y3S1/BT4221/Kaggle\\\\ Mask'"
     ]
    }
   ],
   "source": [
    "from keras.preprocessing.image import ImageDataGenerator\n",
    "train_datagen = ImageDataGenerator(rescale = 1./255, shear_range = 0.2, zoom_range=0.2, horizontal_flip=True)\n",
    "\n",
    "\n",
    "\n",
    "training_set = train_datagen.flow_from_directory('/Users/samantha/Downloads/Y3S1/BT4221/Kaggle\\ Mask',\n",
    "                                                 target_size=(127,127),\n",
    "                                                 batch_size=32,\n",
    "                                                 class_mode='binary')\n"
   ]
  },
  {
   "cell_type": "code",
   "execution_count": 18,
   "metadata": {},
   "outputs": [
    {
     "name": "stdout",
     "output_type": "stream",
     "text": [
      "Found 306 images belonging to 2 classes.\n"
     ]
    }
   ],
   "source": [
    "validation_datagen = ImageDataGenerator(rescale = 1./255)\n",
    "validation_set = validation_datagen.flow_from_directory('../input/covid-face-mask-detection-dataset/New Masks Dataset/Validation/', target_size = (127,127), batch_size = 32, class_mode = 'binary')"
   ]
  },
  {
   "cell_type": "code",
   "execution_count": 19,
   "metadata": {},
   "outputs": [],
   "source": [
    "from tensorflow.keras.models import Sequential\n",
    "from tensorflow.keras.layers import Dropout, Conv2D, Flatten, MaxPool2D, Dense, BatchNormalization"
   ]
  },
  {
   "cell_type": "code",
   "execution_count": 20,
   "metadata": {},
   "outputs": [],
   "source": [
    "cnn = Sequential()"
   ]
  },
  {
   "cell_type": "code",
   "execution_count": 21,
   "metadata": {},
   "outputs": [],
   "source": [
    "cnn.add(Conv2D(32, activation = 'relu', kernel_size = 3, input_shape = [127,127,3]))\n",
    "cnn.add(BatchNormalization())\n",
    "\n",
    "#cnn.add(Conv2D(32, activation = 'relu', kernel_size = 3))\n",
    "#cnn.add(BatchNormalization())\n",
    "\n",
    "#cnn.add(MaxPool2D(pool_size = (2,2)))\n",
    "\n",
    "#cnn.add(Conv2D(64, activation = 'relu', kernel_size = 3))\n",
    "#cnn.add(BatchNormalization())\n",
    "\n",
    "cnn.add(Conv2D(64, activation = 'relu', kernel_size = 3))\n",
    "cnn.add(BatchNormalization())\n",
    "\n",
    "cnn.add(MaxPool2D(pool_size = (2,2)))"
   ]
  },
  {
   "cell_type": "code",
   "execution_count": 22,
   "metadata": {},
   "outputs": [],
   "source": [
    "cnn.add(Flatten())"
   ]
  },
  {
   "cell_type": "code",
   "execution_count": 23,
   "metadata": {},
   "outputs": [],
   "source": [
    "cnn.add(Dense(64, activation = 'relu'))\n",
    "cnn.add(Dropout(0.2))\n",
    "\n",
    "cnn.add(Dense(128, activation = 'relu'))\n",
    "cnn.add(Dropout(0.2))\n",
    "\n",
    "cnn.add(Dense(1, activation = 'sigmoid'))\n",
    "\n",
    "cnn.compile(optimizer='adam', metrics = 'accuracy', loss = 'binary_crossentropy')"
   ]
  },
  {
   "cell_type": "markdown",
   "metadata": {},
   "source": [
    "Training the model"
   ]
  },
  {
   "cell_type": "code",
   "execution_count": 24,
   "metadata": {},
   "outputs": [
    {
     "name": "stdout",
     "output_type": "stream",
     "text": [
      "Epoch 1/50\n",
      "19/19 [==============================] - 12s 650ms/step - loss: 5.6470 - accuracy: 0.7850 - val_loss: 0.9971 - val_accuracy: 0.5654\n",
      "Epoch 2/50\n",
      "19/19 [==============================] - 11s 592ms/step - loss: 3.3816 - accuracy: 0.8700 - val_loss: 1.3665 - val_accuracy: 0.5915\n",
      "Epoch 3/50\n",
      "19/19 [==============================] - 11s 581ms/step - loss: 3.5933 - accuracy: 0.8383 - val_loss: 2.0476 - val_accuracy: 0.6111\n",
      "Epoch 4/50\n",
      "19/19 [==============================] - 11s 579ms/step - loss: 2.1246 - accuracy: 0.8733 - val_loss: 2.4906 - val_accuracy: 0.6471\n",
      "Epoch 5/50\n",
      "19/19 [==============================] - 11s 594ms/step - loss: 2.4408 - accuracy: 0.8517 - val_loss: 2.8094 - val_accuracy: 0.6078\n",
      "Epoch 6/50\n",
      "19/19 [==============================] - 12s 612ms/step - loss: 4.0613 - accuracy: 0.8633 - val_loss: 3.2806 - val_accuracy: 0.6111\n",
      "Epoch 7/50\n",
      "19/19 [==============================] - 11s 585ms/step - loss: 1.8053 - accuracy: 0.9017 - val_loss: 5.5789 - val_accuracy: 0.5621\n",
      "Epoch 8/50\n",
      "19/19 [==============================] - 11s 576ms/step - loss: 1.3381 - accuracy: 0.9167 - val_loss: 5.4421 - val_accuracy: 0.5588\n",
      "Epoch 9/50\n",
      "19/19 [==============================] - 11s 583ms/step - loss: 1.4852 - accuracy: 0.8783 - val_loss: 3.2473 - val_accuracy: 0.6144\n",
      "Epoch 10/50\n",
      "19/19 [==============================] - 11s 592ms/step - loss: 1.0885 - accuracy: 0.8600 - val_loss: 7.9384 - val_accuracy: 0.5229\n",
      "Epoch 11/50\n",
      "19/19 [==============================] - 11s 592ms/step - loss: 0.6237 - accuracy: 0.9083 - val_loss: 8.2609 - val_accuracy: 0.5621\n",
      "Epoch 12/50\n",
      "19/19 [==============================] - 11s 599ms/step - loss: 0.6416 - accuracy: 0.9350 - val_loss: 2.4983 - val_accuracy: 0.7516\n",
      "Epoch 13/50\n",
      "19/19 [==============================] - 11s 587ms/step - loss: 0.8440 - accuracy: 0.8417 - val_loss: 2.1908 - val_accuracy: 0.8105\n",
      "Epoch 14/50\n",
      "19/19 [==============================] - 11s 581ms/step - loss: 0.9566 - accuracy: 0.9217 - val_loss: 9.2030 - val_accuracy: 0.5817\n",
      "Epoch 15/50\n",
      "19/19 [==============================] - 11s 573ms/step - loss: 1.0829 - accuracy: 0.9033 - val_loss: 2.1019 - val_accuracy: 0.8333\n",
      "Epoch 16/50\n",
      "19/19 [==============================] - 11s 603ms/step - loss: 0.5105 - accuracy: 0.9317 - val_loss: 6.1558 - val_accuracy: 0.6928\n",
      "Epoch 17/50\n",
      "19/19 [==============================] - 11s 605ms/step - loss: 0.6598 - accuracy: 0.9167 - val_loss: 7.4305 - val_accuracy: 0.6928\n",
      "Epoch 18/50\n",
      "19/19 [==============================] - 11s 587ms/step - loss: 0.4930 - accuracy: 0.9000 - val_loss: 5.9582 - val_accuracy: 0.7222\n",
      "Epoch 19/50\n",
      "19/19 [==============================] - 11s 580ms/step - loss: 0.5689 - accuracy: 0.9033 - val_loss: 3.9759 - val_accuracy: 0.8333\n",
      "Epoch 20/50\n",
      "19/19 [==============================] - 11s 595ms/step - loss: 0.5564 - accuracy: 0.9117 - val_loss: 4.9171 - val_accuracy: 0.7712\n",
      "Epoch 21/50\n",
      "19/19 [==============================] - 11s 604ms/step - loss: 0.3821 - accuracy: 0.8717 - val_loss: 4.6199 - val_accuracy: 0.7647\n",
      "Epoch 22/50\n",
      "19/19 [==============================] - 12s 611ms/step - loss: 0.2886 - accuracy: 0.9150 - val_loss: 5.5374 - val_accuracy: 0.7974\n",
      "Epoch 23/50\n",
      "19/19 [==============================] - 11s 583ms/step - loss: 0.2533 - accuracy: 0.9150 - val_loss: 3.4297 - val_accuracy: 0.8922\n",
      "Epoch 24/50\n",
      "19/19 [==============================] - 12s 607ms/step - loss: 0.3277 - accuracy: 0.9067 - val_loss: 2.9826 - val_accuracy: 0.8954\n",
      "Epoch 25/50\n",
      "19/19 [==============================] - 11s 582ms/step - loss: 0.2195 - accuracy: 0.9483 - val_loss: 2.8296 - val_accuracy: 0.9020\n",
      "Epoch 26/50\n",
      "19/19 [==============================] - 11s 596ms/step - loss: 0.2328 - accuracy: 0.9433 - val_loss: 2.8444 - val_accuracy: 0.9020\n",
      "Epoch 27/50\n",
      "19/19 [==============================] - 12s 627ms/step - loss: 0.3107 - accuracy: 0.9217 - val_loss: 3.7060 - val_accuracy: 0.8987\n",
      "Epoch 28/50\n",
      "19/19 [==============================] - 11s 581ms/step - loss: 0.2515 - accuracy: 0.9333 - val_loss: 2.6877 - val_accuracy: 0.9118\n",
      "Epoch 29/50\n",
      "19/19 [==============================] - 11s 589ms/step - loss: 0.3136 - accuracy: 0.9383 - val_loss: 2.6494 - val_accuracy: 0.9052\n",
      "Epoch 30/50\n",
      "19/19 [==============================] - 11s 570ms/step - loss: 0.4215 - accuracy: 0.9200 - val_loss: 1.3429 - val_accuracy: 0.8529\n",
      "Epoch 31/50\n",
      "19/19 [==============================] - 11s 583ms/step - loss: 0.3317 - accuracy: 0.9117 - val_loss: 0.5639 - val_accuracy: 0.8137\n",
      "Epoch 32/50\n",
      "19/19 [==============================] - 12s 622ms/step - loss: 0.2743 - accuracy: 0.9267 - val_loss: 0.7512 - val_accuracy: 0.8595\n",
      "Epoch 33/50\n",
      "19/19 [==============================] - 11s 577ms/step - loss: 0.2151 - accuracy: 0.9383 - val_loss: 0.6474 - val_accuracy: 0.8660\n",
      "Epoch 34/50\n",
      "19/19 [==============================] - 11s 586ms/step - loss: 0.1886 - accuracy: 0.9217 - val_loss: 0.6273 - val_accuracy: 0.8987\n",
      "Epoch 35/50\n",
      "19/19 [==============================] - 11s 566ms/step - loss: 0.2371 - accuracy: 0.9300 - val_loss: 0.9505 - val_accuracy: 0.8922\n",
      "Epoch 36/50\n",
      "19/19 [==============================] - 11s 574ms/step - loss: 0.2887 - accuracy: 0.9317 - val_loss: 4.4484 - val_accuracy: 0.7582\n",
      "Epoch 37/50\n",
      "19/19 [==============================] - 12s 622ms/step - loss: 0.2917 - accuracy: 0.9217 - val_loss: 2.1991 - val_accuracy: 0.8824\n",
      "Epoch 38/50\n",
      "19/19 [==============================] - 11s 584ms/step - loss: 0.3498 - accuracy: 0.9317 - val_loss: 7.7706 - val_accuracy: 0.6797\n",
      "Epoch 39/50\n",
      "19/19 [==============================] - 11s 581ms/step - loss: 0.4159 - accuracy: 0.9433 - val_loss: 6.7863 - val_accuracy: 0.7778\n",
      "Epoch 40/50\n",
      "19/19 [==============================] - 11s 586ms/step - loss: 0.2664 - accuracy: 0.9267 - val_loss: 5.7342 - val_accuracy: 0.7451\n",
      "Epoch 41/50\n",
      "19/19 [==============================] - 11s 582ms/step - loss: 0.3282 - accuracy: 0.9350 - val_loss: 1.3061 - val_accuracy: 0.8922\n",
      "Epoch 42/50\n",
      "19/19 [==============================] - 12s 615ms/step - loss: 0.3287 - accuracy: 0.9367 - val_loss: 1.3051 - val_accuracy: 0.7222\n",
      "Epoch 43/50\n",
      "19/19 [==============================] - 11s 603ms/step - loss: 0.3059 - accuracy: 0.9267 - val_loss: 0.9701 - val_accuracy: 0.8105\n",
      "Epoch 44/50\n",
      "19/19 [==============================] - 11s 580ms/step - loss: 0.2090 - accuracy: 0.9300 - val_loss: 0.7436 - val_accuracy: 0.7451\n",
      "Epoch 45/50\n",
      "19/19 [==============================] - 11s 593ms/step - loss: 0.2279 - accuracy: 0.9333 - val_loss: 0.6287 - val_accuracy: 0.7516\n",
      "Epoch 46/50\n",
      "19/19 [==============================] - 11s 583ms/step - loss: 0.2881 - accuracy: 0.9417 - val_loss: 0.8910 - val_accuracy: 0.6732\n",
      "Epoch 47/50\n",
      "19/19 [==============================] - 11s 601ms/step - loss: 0.2979 - accuracy: 0.9350 - val_loss: 0.7048 - val_accuracy: 0.7974\n",
      "Epoch 48/50\n",
      "19/19 [==============================] - 12s 628ms/step - loss: 0.2708 - accuracy: 0.9333 - val_loss: 0.5763 - val_accuracy: 0.7092\n",
      "Epoch 49/50\n",
      "19/19 [==============================] - 11s 586ms/step - loss: 0.2632 - accuracy: 0.9417 - val_loss: 0.8615 - val_accuracy: 0.8464\n",
      "Epoch 50/50\n",
      "19/19 [==============================] - 11s 584ms/step - loss: 0.2428 - accuracy: 0.9250 - val_loss: 0.7191 - val_accuracy: 0.8529\n"
     ]
    },
    {
     "data": {
      "text/plain": [
       "<tensorflow.python.keras.callbacks.History at 0x7fce63e24050>"
      ]
     },
     "execution_count": 24,
     "metadata": {},
     "output_type": "execute_result"
    }
   ],
   "source": [
    "cnn.fit(x=training_set,epochs = 50, validation_data =validation_set)"
   ]
  },
  {
   "cell_type": "markdown",
   "metadata": {},
   "source": [
    "Prediction of single image"
   ]
  },
  {
   "cell_type": "code",
   "execution_count": 25,
   "metadata": {},
   "outputs": [],
   "source": [
    "from keras.preprocessing import image"
   ]
  },
  {
   "cell_type": "markdown",
   "metadata": {},
   "source": [
    "You can add the image file path of your choice"
   ]
  },
  {
   "cell_type": "code",
   "execution_count": 26,
   "metadata": {},
   "outputs": [],
   "source": [
    "test_image = image.load_img('../input/photom/aditya-saxena-01R4fryNgUM-unsplash.jpg', target_size = (127,127,3))"
   ]
  },
  {
   "cell_type": "code",
   "execution_count": 27,
   "metadata": {},
   "outputs": [],
   "source": [
    "test_image = image.img_to_array(test_image)\n",
    "test_image = np.expand_dims(test_image, axis = 0)\n",
    "result = cnn.predict(test_image)"
   ]
  },
  {
   "cell_type": "code",
   "execution_count": 28,
   "metadata": {},
   "outputs": [],
   "source": [
    "answer = cnn.predict_classes(test_image)"
   ]
  },
  {
   "cell_type": "code",
   "execution_count": 29,
   "metadata": {},
   "outputs": [],
   "source": [
    "training_set.class_indices\n",
    "if result[0][0]==1:\n",
    "    prediction = 'mask'\n",
    "else :\n",
    "    prediction = 'unmask'"
   ]
  },
  {
   "cell_type": "code",
   "execution_count": 30,
   "metadata": {},
   "outputs": [
    {
     "name": "stdout",
     "output_type": "stream",
     "text": [
      "mask\n"
     ]
    }
   ],
   "source": [
    "print(prediction)"
   ]
  }
 ],
 "metadata": {
  "kernelspec": {
   "display_name": "Python 3",
   "language": "python",
   "name": "python3"
  },
  "language_info": {
   "codemirror_mode": {
    "name": "ipython",
    "version": 3
   },
   "file_extension": ".py",
   "mimetype": "text/x-python",
   "name": "python",
   "nbconvert_exporter": "python",
   "pygments_lexer": "ipython3",
   "version": "3.7.4"
  }
 },
 "nbformat": 4,
 "nbformat_minor": 4
}
