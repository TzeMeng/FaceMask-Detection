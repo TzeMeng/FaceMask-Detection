{
 "metadata": {
  "language_info": {
   "codemirror_mode": {
    "name": "ipython",
    "version": 3
   },
   "file_extension": ".py",
   "mimetype": "text/x-python",
   "name": "python",
   "nbconvert_exporter": "python",
   "pygments_lexer": "ipython3",
   "version": "3.7.4-final"
  },
  "orig_nbformat": 2,
  "kernelspec": {
   "name": "python3",
   "display_name": "Python 3"
  }
 },
 "nbformat": 4,
 "nbformat_minor": 2,
 "cells": [
  {
   "cell_type": "code",
   "execution_count": 16,
   "metadata": {},
   "outputs": [
    {
     "output_type": "stream",
     "name": "stdout",
     "text": [
      "Collecting pytube\n  Using cached https://files.pythonhosted.org/packages/0f/e5/d9e1d7ba18e8ddb91c0677811751106cf4aab547c9963a03e7744c22bea0/pytube-9.6.0-py3-none-any.whl\nInstalling collected packages: pytube\nSuccessfully installed pytube-9.6.0\n"
     ]
    }
   ],
   "source": [
    "!pip install --upgrade pytube"
   ]
  },
  {
   "cell_type": "code",
   "execution_count": 19,
   "metadata": {},
   "outputs": [],
   "source": [
    "# The below imports are required by the patch\n",
    "import json\n",
    "from urllib.parse import parse_qs, unquote\n",
    "\n",
    "# This function is based off on the changes made in\n",
    "# https://github.com/nficano/pytube/pull/643\n",
    "\n",
    "def apply_descrambler(stream_data, key):\n",
    "    \"\"\"Apply various in-place transforms to YouTube's media stream data.\n",
    "    Creates a ``list`` of dictionaries by string splitting on commas, then\n",
    "    taking each list item, parsing it as a query string, converting it to a\n",
    "    ``dict`` and unquoting the value.\n",
    "    :param dict stream_data:\n",
    "        Dictionary containing query string encoded values.\n",
    "    :param str key:\n",
    "        Name of the key in dictionary.\n",
    "    **Example**:\n",
    "    >>> d = {'foo': 'bar=1&var=test,em=5&t=url%20encoded'}\n",
    "    >>> apply_descrambler(d, 'foo')\n",
    "    >>> print(d)\n",
    "    {'foo': [{'bar': '1', 'var': 'test'}, {'em': '5', 't': 'url encoded'}]}\n",
    "    \"\"\"\n",
    "    otf_type = \"FORMAT_STREAM_TYPE_OTF\"\n",
    "\n",
    "    if key == \"url_encoded_fmt_stream_map\" and not stream_data.get(\n",
    "        \"url_encoded_fmt_stream_map\"\n",
    "    ):\n",
    "        formats = json.loads(stream_data[\"player_response\"])[\"streamingData\"][\"formats\"]\n",
    "        formats.extend(\n",
    "            json.loads(stream_data[\"player_response\"])[\"streamingData\"][\n",
    "                \"adaptiveFormats\"\n",
    "            ]\n",
    "        )\n",
    "        try:\n",
    "            stream_data[key] = [\n",
    "                {\n",
    "                    \"url\": format_item[\"url\"],\n",
    "                    \"type\": format_item[\"mimeType\"],\n",
    "                    \"quality\": format_item[\"quality\"],\n",
    "                    \"itag\": format_item[\"itag\"],\n",
    "                    \"bitrate\": format_item.get(\"bitrate\"),\n",
    "                    \"is_otf\": (format_item.get(\"type\") == otf_type),\n",
    "                }\n",
    "                for format_item in formats\n",
    "            ]\n",
    "        except KeyError:\n",
    "            cipher_url = []\n",
    "            for data in formats:\n",
    "                cipher = data.get(\"cipher\") or data[\"signatureCipher\"]\n",
    "                cipher_url.append(parse_qs(cipher))\n",
    "            stream_data[key] = [\n",
    "                {\n",
    "                    \"url\": cipher_url[i][\"url\"][0],\n",
    "                    \"s\": cipher_url[i][\"s\"][0],\n",
    "                    \"type\": format_item[\"mimeType\"],\n",
    "                    \"quality\": format_item[\"quality\"],\n",
    "                    \"itag\": format_item[\"itag\"],\n",
    "                    \"bitrate\": format_item.get(\"bitrate\"),\n",
    "                    \"is_otf\": (format_item.get(\"type\") == otf_type),\n",
    "                }\n",
    "                for i, format_item in enumerate(formats)\n",
    "            ]\n",
    "    else:\n",
    "        stream_data[key] = [\n",
    "            {k: unquote(v) for k, v in parse_qsl(i)}\n",
    "            for i in stream_data[key].split(\",\")\n",
    "        ]\n",
    "\n",
    "\n",
    "import pytube\n",
    "pytube.__main__.apply_descrambler = apply_descrambler"
   ]
  },
  {
   "cell_type": "code",
   "execution_count": 23,
   "metadata": {},
   "outputs": [],
   "source": [
    "from pytube import YouTube\n",
    "yt = YouTube('https://www.youtube.com/watch?v=87gWaABqGYs').streams.filter(progressive=True, file_extension='mp4').order_by('resolution').desc().first()"
   ]
  },
  {
   "cell_type": "code",
   "execution_count": 24,
   "metadata": {},
   "outputs": [
    {
     "output_type": "execute_result",
     "data": {
      "text/plain": [
       "<Stream: itag=\"18\" mime_type=\"video/mp4\" res=\"360p\" fps=\"30fps\" vcodec=\"avc1.42001E\" acodec=\"mp4a.40.2\" progressive=\"True\" type=\"video\">"
      ]
     },
     "metadata": {},
     "execution_count": 24
    }
   ],
   "source": [
    "yt"
   ]
  },
  {
   "cell_type": "code",
   "execution_count": 26,
   "metadata": {},
   "outputs": [
    {
     "output_type": "execute_result",
     "data": {
      "text/plain": [
       "'c:\\\\Users\\\\ngtze\\\\Desktop\\\\BT4221_Project\\\\./Music_Videos/Ed Sheeran - Galway Girl [Official Video].mp4'"
      ]
     },
     "metadata": {},
     "execution_count": 26
    }
   ],
   "source": [
    "yt.download('./Music_Videos/')"
   ]
  },
  {
   "cell_type": "code",
   "execution_count": null,
   "metadata": {},
   "outputs": [],
   "source": []
  }
 ]
}