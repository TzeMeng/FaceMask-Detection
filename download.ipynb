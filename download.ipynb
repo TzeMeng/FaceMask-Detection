{
 "metadata": {
  "language_info": {
   "codemirror_mode": {
    "name": "ipython",
    "version": 3
   },
   "file_extension": ".py",
   "mimetype": "text/x-python",
   "name": "python",
   "nbconvert_exporter": "python",
   "pygments_lexer": "ipython3",
   "version": "3.7.4-final"
  },
  "orig_nbformat": 2,
  "kernelspec": {
   "name": "python3",
   "display_name": "Python 3"
  }
 },
 "nbformat": 4,
 "nbformat_minor": 2,
 "cells": [
  {
   "cell_type": "code",
   "execution_count": 1,
   "metadata": {},
   "outputs": [
    {
     "output_type": "stream",
     "name": "stdout",
     "text": [
      "Requirement already satisfied: pytube3 in c:\\users\\ngtze\\anaconda3\\lib\\site-packages (9.6.4)\nRequirement already satisfied: typing-extensions in c:\\users\\ngtze\\anaconda3\\lib\\site-packages (from pytube3) (3.7.4.3)\n"
     ]
    }
   ],
   "source": [
    "!pip install pytube3"
   ]
  },
  {
   "source": [
    "#### Run below code to fix patch"
   ],
   "cell_type": "markdown",
   "metadata": {}
  },
  {
   "cell_type": "code",
   "execution_count": 2,
   "metadata": {},
   "outputs": [],
   "source": [
    "# The below imports are required by the patch\n",
    "import json\n",
    "from urllib.parse import parse_qs, unquote\n",
    "\n",
    "# This function is based off on the changes made in\n",
    "# https://github.com/nficano/pytube/pull/643\n",
    "\n",
    "def apply_descrambler(stream_data, key):\n",
    "    \"\"\"Apply various in-place transforms to YouTube's media stream data.\n",
    "    Creates a ``list`` of dictionaries by string splitting on commas, then\n",
    "    taking each list item, parsing it as a query string, converting it to a\n",
    "    ``dict`` and unquoting the value.\n",
    "    :param dict stream_data:\n",
    "        Dictionary containing query string encoded values.\n",
    "    :param str key:\n",
    "        Name of the key in dictionary.\n",
    "    **Example**:\n",
    "    >>> d = {'foo': 'bar=1&var=test,em=5&t=url%20encoded'}\n",
    "    >>> apply_descrambler(d, 'foo')\n",
    "    >>> print(d)\n",
    "    {'foo': [{'bar': '1', 'var': 'test'}, {'em': '5', 't': 'url encoded'}]}\n",
    "    \"\"\"\n",
    "    otf_type = \"FORMAT_STREAM_TYPE_OTF\"\n",
    "\n",
    "    if key == \"url_encoded_fmt_stream_map\" and not stream_data.get(\n",
    "        \"url_encoded_fmt_stream_map\"\n",
    "    ):\n",
    "        formats = json.loads(stream_data[\"player_response\"])[\"streamingData\"][\"formats\"]\n",
    "        formats.extend(\n",
    "            json.loads(stream_data[\"player_response\"])[\"streamingData\"][\n",
    "                \"adaptiveFormats\"\n",
    "            ]\n",
    "        )\n",
    "        try:\n",
    "            stream_data[key] = [\n",
    "                {\n",
    "                    \"url\": format_item[\"url\"],\n",
    "                    \"type\": format_item[\"mimeType\"],\n",
    "                    \"quality\": format_item[\"quality\"],\n",
    "                    \"itag\": format_item[\"itag\"],\n",
    "                    \"bitrate\": format_item.get(\"bitrate\"),\n",
    "                    \"is_otf\": (format_item.get(\"type\") == otf_type),\n",
    "                }\n",
    "                for format_item in formats\n",
    "            ]\n",
    "        except KeyError:\n",
    "            cipher_url = []\n",
    "            for data in formats:\n",
    "                cipher = data.get(\"cipher\") or data[\"signatureCipher\"]\n",
    "                cipher_url.append(parse_qs(cipher))\n",
    "            stream_data[key] = [\n",
    "                {\n",
    "                    \"url\": cipher_url[i][\"url\"][0],\n",
    "                    \"s\": cipher_url[i][\"s\"][0],\n",
    "                    \"type\": format_item[\"mimeType\"],\n",
    "                    \"quality\": format_item[\"quality\"],\n",
    "                    \"itag\": format_item[\"itag\"],\n",
    "                    \"bitrate\": format_item.get(\"bitrate\"),\n",
    "                    \"is_otf\": (format_item.get(\"type\") == otf_type),\n",
    "                }\n",
    "                for i, format_item in enumerate(formats)\n",
    "            ]\n",
    "    else:\n",
    "        stream_data[key] = [\n",
    "            {k: unquote(v) for k, v in parse_qsl(i)}\n",
    "            for i in stream_data[key].split(\",\")\n",
    "        ]\n",
    "\n",
    "\n",
    "import pytube\n",
    "pytube.__main__.apply_descrambler = apply_descrambler"
   ]
  },
  {
   "cell_type": "code",
   "execution_count": 4,
   "metadata": {},
   "outputs": [],
   "source": [
    "from pytube import YouTube\n",
    "yt = YouTube('https://www.youtube.com/watch?v=nSDgHBxUbVQ').streams.filter(progressive=True, file_extension='mp4').order_by('resolution').desc().first()"
   ]
  },
  {
   "cell_type": "code",
   "execution_count": 5,
   "metadata": {},
   "outputs": [
    {
     "output_type": "execute_result",
     "data": {
      "text/plain": [
       "'Ed Sheeran - Photograph (Official Music Video)'"
      ]
     },
     "metadata": {},
     "execution_count": 5
    }
   ],
   "source": [
    "yt.title"
   ]
  },
  {
   "cell_type": "code",
   "execution_count": 6,
   "metadata": {},
   "outputs": [
    {
     "output_type": "execute_result",
     "data": {
      "text/plain": [
       "'c:\\\\Users\\\\ngtze\\\\Desktop\\\\BT4221_Project\\\\./Music_Videos/Ed Sheeran - Photograph (Official Music Video).mp4'"
      ]
     },
     "metadata": {},
     "execution_count": 6
    }
   ],
   "source": [
    "yt.download('./Music_Videos/')"
   ]
  },
  {
   "cell_type": "code",
   "execution_count": null,
   "metadata": {},
   "outputs": [],
   "source": []
  }
 ]
}